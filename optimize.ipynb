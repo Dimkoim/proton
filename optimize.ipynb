{
 "cells": [
  {
   "cell_type": "markdown",
   "metadata": {},
   "source": [
    "<h1>Proton Therapy Optimization</h1>"
   ]
  },
  {
   "cell_type": "markdown",
   "metadata": {},
   "source": [
    "<h3>Naive modeling</h3>\n",
    "\n",
    "The first idea that comes to mind is to make a straight forward mathematical translation of the oral problem description. That would be to set a vector of *i* integer variables *x[i]*, representing the number of proton fractions that should be performed to patient *i*. \n",
    "\n",
    "We would then symbolize our input matrix as *c[i,j]*: the benefit of offering *j* proton fractions to patient *i*. While this is a very intuitive model it suffers from a very non linear object function. In the simplest case where we would like to optimize the sum or average BED, the object functions to be maximized would be:\n",
    "\n",
    "**f = Σ c[i, x[i]] over all i's**\n",
    "\n",
    "<h3>A better modeling idea</h3>\n",
    "\n",
    "\n",
    "Instead we would prefer to go with a linear model. For that reason we could select another set of decision variables, that is a binary matrix *x[i,j]* where a value of 1 denotes that *j* fractions should be performed on patient *i*. Obviously we should constraint every rows sum to 1 (a patient will receive 0,1, ... or N fractions).\n",
    "\n",
    "Our object function can now be expressed as elegandly as:\n",
    "\n",
    "**f = Σ c[i,j] * x[i,j] over all j's over all i's**\n",
    "\n",
    "This is obviously as linear as it gets. Lets code it!"
   ]
  },
  {
   "cell_type": "code",
   "execution_count": 22,
   "metadata": {
    "collapsed": true
   },
   "outputs": [],
   "source": [
    "# GUROBI must be installed and a licence file must be discoverable in one of the default locations\n",
    "from gurobipy import *\n",
    "\n",
    "# Get some additional dependencies\n",
    "import pandas as pd\n",
    "import numpy as np"
   ]
  },
  {
   "cell_type": "code",
   "execution_count": 23,
   "metadata": {
    "collapsed": false
   },
   "outputs": [],
   "source": [
    "# Read the dataset into a 2d array. benefit[i,j] is the benefit patient i will get from j fractions\n",
    "data = pd.read_csv('data/PayoffMatrix.txt', delim_whitespace = True)\n",
    "benefit = data.values"
   ]
  },
  {
   "cell_type": "code",
   "execution_count": 24,
   "metadata": {
    "collapsed": false
   },
   "outputs": [],
   "source": [
    "# Lets represent our decisions as indexes\n",
    "num_patients, max_fractions_per_patient = benefit.shape\n",
    "patients = [i for i in range(num_patients)]\n",
    "fractions = [j for j in range(max_fractions_per_patient)]"
   ]
  },
  {
   "cell_type": "code",
   "execution_count": 25,
   "metadata": {
    "collapsed": false
   },
   "outputs": [],
   "source": [
    "m = Model('proton_therapy')\n",
    "\n",
    "x = m.addVars(num_patients, max_fractions_per_patient, vtype = GRB.BINARY)\n",
    "\n",
    "# Only one choice of fractions per patient is valid\n",
    "m.addConstrs(quicksum(x[i,j] for j in fractions) == 1 for i in patients)\n",
    "\n",
    "# We can only perform so many proton therapies per week\n",
    "CAPACITY = 100\n",
    "m.addConstr(quicksum(quicksum(x[i,j] * fractions[j] for j in fractions) for i in patients) <= CAPACITY)\n",
    "\n",
    "m.setObjective(quicksum(x[i,j] * benefit[i,j] for i in patients for j in fractions), GRB.MAXIMIZE)\n",
    "m.setParam('OutputFlag', 0)\n",
    "m.update()\n",
    "m.optimize()"
   ]
  },
  {
   "cell_type": "code",
   "execution_count": 26,
   "metadata": {
    "collapsed": false
   },
   "outputs": [
    {
     "name": "stdout",
     "output_type": "stream",
     "text": [
      "Patient 0 should receive 10 fractions\n",
      "Patient 1 should receive 3 fractions\n",
      "Patient 2 should receive 4 fractions\n",
      "Patient 3 should receive 0 fractions\n",
      "Patient 4 should receive 0 fractions\n",
      "Patient 5 should receive 6 fractions\n",
      "Patient 6 should receive 9 fractions\n",
      "Patient 7 should receive 10 fractions\n",
      "Patient 8 should receive 12 fractions\n",
      "Patient 9 should receive 7 fractions\n",
      "Patient 10 should receive 4 fractions\n",
      "Patient 11 should receive 4 fractions\n",
      "Patient 12 should receive 9 fractions\n",
      "Patient 13 should receive 15 fractions\n",
      "Patient 14 should receive 4 fractions\n",
      "Patient 15 should receive 3 fractions\n"
     ]
    }
   ],
   "source": [
    "if m.status == GRB.Status.OPTIMAL:\n",
    "    solution = m.getAttr(\"x\", x)\n",
    "    for i in patients:\n",
    "        optimum = -1\n",
    "        for j in fractions:\n",
    "            if(solution[i,j] == 1):\n",
    "                print(\"Patient \" + str(i) + \" should receive \" + str(j) + \" fractions\")\n",
    "                break\n",
    "\n",
    "            "
   ]
  }
 ],
 "metadata": {
  "kernelspec": {
   "display_name": "Venv",
   "language": "python",
   "name": "venv"
  },
  "language_info": {
   "codemirror_mode": {
    "name": "ipython",
    "version": 3
   },
   "file_extension": ".py",
   "mimetype": "text/x-python",
   "name": "python",
   "nbconvert_exporter": "python",
   "pygments_lexer": "ipython3",
   "version": "3.5.2"
  }
 },
 "nbformat": 4,
 "nbformat_minor": 2
}
